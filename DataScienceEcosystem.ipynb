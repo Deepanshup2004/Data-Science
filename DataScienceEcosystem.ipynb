{
 "cells": [
  {
   "cell_type": "markdown",
   "id": "3f98a1a7-08cd-4a90-ab99-dd20cb208e86",
   "metadata": {},
   "source": [
    "# Peer-graded Assignment of Tools for Data Science :"
   ]
  },
  {
   "cell_type": "markdown",
   "id": "ba2b8a94-63b4-4457-bba9-66eb1aafcedc",
   "metadata": {},
   "source": [
    "## There are a total of 25 points possible for this final project."
   ]
  },
  {
   "cell_type": "markdown",
   "id": "54664c51-1f0f-4cbb-b6bb-2033403b24d2",
   "metadata": {},
   "source": [
    "Exercise 1 - Create a jupyter notebook :\n",
    "\n",
    "Exercise 2 - Create a markdown cell with the title of the notebook. (1 pt)\n",
    "\n",
    "Exercise 3 - Create a markdown cell for an introduction. (1 pt)\n",
    "\n",
    "Exercise 4 - Create a markdown cell to list data science languages. (3 pts)\n",
    "\n",
    "Exercise 5 - Create a markdown cell to list data science libraries. (3 pts)\n",
    "\n",
    "Exercise 6 - Create a markdown cell with a table of Data Science tools. (3 pts)\n",
    "\n",
    "Exercise 7 - Create a markdown cell introducing arithmetic expression examples. (1 pt)\n",
    "\n",
    "Exercise 8 - Create a code cell to multiply and add numbers. (2 pts)\n",
    "\n",
    "Exercise 9 - Create a code cell to convert minutes to hours. (2 pts)\n",
    "\n",
    "Exercise 10 -Insert a markdown cell to list Objectives. (3 pts)\n",
    "\n",
    "Exercise 11 - Create a markdown cell to indicate the\n",
    "\n",
    "Exercise 12 - Share your notebook through GitHub (3 pts)\n",
    "\n",
    "Exercise 13 - Take a screenshot of the first page of the notebook. (1 pt)Author’s name. (2 pts)"
   ]
  },
  {
   "cell_type": "markdown",
   "id": "816cf7a0-2054-46bd-851e-f3ddb7056d6f",
   "metadata": {},
   "source": [
    "## Exercise 1: Create a Jupyter Notebook"
   ]
  },
  {
   "cell_type": "markdown",
   "id": "d1910867-304b-4395-9f80-ee7977713002",
   "metadata": {},
   "source": [
    "Create a new Jupyter notebook called DataScienceEcosystem.ipynb"
   ]
  },
  {
   "cell_type": "markdown",
   "id": "4c2204bf-3e71-4a9a-afce-de15e73b563d",
   "metadata": {},
   "source": [
    "## Exercise 2: Create markdown cell with title of the notebook"
   ]
  },
  {
   "cell_type": "markdown",
   "id": "bc5c3edc-2097-4965-8767-a8389bbc2dce",
   "metadata": {},
   "source": [
    "# Data Science Tools and Ecosystem"
   ]
  },
  {
   "cell_type": "markdown",
   "id": "22a74b84-a0e9-4cb5-8e37-041c082e8bfd",
   "metadata": {},
   "source": [
    "## Exercise 3 - Create a markdown cell for an introduction"
   ]
  },
  {
   "cell_type": "markdown",
   "id": "e3eaa89e-c0aa-420c-a305-e051c469babb",
   "metadata": {},
   "source": [
    "In this notebook, we summarize various tools and components that make up the Data Science ecosystem. Data Science involves a combination of disciplines, including statistics, machine learning, data processing, and visualization. This ecosystem provides tools and resources to support the entire data lifecycle—from data collection to building machine learning models to deploying solutions"
   ]
  },
  {
   "cell_type": "markdown",
   "id": "72f41093-4103-4410-aaed-5e13dfee567d",
   "metadata": {},
   "source": [
    "## Objectives"
   ]
  },
  {
   "cell_type": "markdown",
   "id": "62f2b5cf-b701-4e05-a824-0859cbf46e88",
   "metadata": {},
   "source": [
    "1. List of common used Languages in data science\n",
    "2. List of common tools used by data scientist\n",
    "3. List of common used libraries in data science"
   ]
  },
  {
   "cell_type": "markdown",
   "id": "fd5306eb-b52b-443c-acc4-2cdee92d4791",
   "metadata": {},
   "source": [
    "## Exercise 4 - Create a markdown cell to list data science languages"
   ]
  },
  {
   "cell_type": "markdown",
   "id": "57c3d7b8-2619-4059-b655-8156de0ed452",
   "metadata": {},
   "source": [
    "1. Python\n",
    "2. R\n",
    "3. JAVA\n",
    "4. SCALA\n",
    "5. SQL\n",
    "6. C/C++\n",
    "7. JULIA"
   ]
  },
  {
   "cell_type": "markdown",
   "id": "01f65cb4-471f-4f79-9a10-8952f86b3932",
   "metadata": {},
   "source": [
    "## Exercise 5 - Create a markdown cell to list data science libraries"
   ]
  },
  {
   "cell_type": "markdown",
   "id": "dc95aaa3-db0f-477b-a3c6-bb123488ae4c",
   "metadata": {},
   "source": [
    "1. Tensorflow\n",
    "2. Scipy\n",
    "3. Numpy\n",
    "4. Pandas\n",
    "5. Pytorch\n",
    "6. Pybrain\n",
    "7. Keras"
   ]
  },
  {
   "cell_type": "markdown",
   "id": "6e28ae61-d2de-435f-ae92-24e49330e587",
   "metadata": {},
   "source": [
    "## Exercise 6 - Create a markdown cell with a table of Data Science tools"
   ]
  },
  {
   "cell_type": "markdown",
   "id": "39d49076-079e-47a6-ae2f-f0828b2f28e8",
   "metadata": {},
   "source": [
    "1. Apache Spark\n",
    "2. Matlab\n",
    "3. BigML\n",
    "4. Tableau\n",
    "5. SAS\n",
    "6. PowerBI"
   ]
  },
  {
   "cell_type": "markdown",
   "id": "e24931a7-5ea6-49f2-af59-04115c13197b",
   "metadata": {},
   "source": [
    "## Exercise 7 - Create a markdown cell introducing arithmetic expression examples"
   ]
  },
  {
   "cell_type": "markdown",
   "id": "655e1498-919d-4a13-ab24-490326556aaf",
   "metadata": {},
   "source": [
    "## Introduction to Arithmetic Expressions"
   ]
  },
  {
   "cell_type": "markdown",
   "id": "e7e4a29c-c39b-458f-9104-1941074bfcb5",
   "metadata": {},
   "source": [
    "Arithmetic expressions allow us to perform mathematical operations using numbers and symbols. In programming, arithmetic expressions are fundamental as they enable us to carry out calculations, assignments, and other operations. Here are some basic examples of arithmetic expressions:\n",
    "\n",
    "**Addition (+)**: Adds two values.\n",
    "Example: 5 + 3 results in 8.\n",
    "\n",
    "**Subtraction (-)**: Subtracts one value from another.\n",
    "Example: 10 - 4 results in 6.\n",
    "\n",
    "**Multiplication (*)**: Multiplies two values.\n",
    "Example: 7 * 2 results in 14.\n",
    "\n",
    "**Division (/)**: Divides one value by another.\n",
    "Example: 12 / 3 results in 4.\n",
    "\n",
    "Exponentiation (**): Raises a number to the power of another.\n",
    "Example: 2 ** 3 results in 8.\n",
    "\n",
    "**Modulo (%)**: Finds the remainder when one value is divided by another.\n",
    "Example: `10nd problem-solving."
   ]
  },
  {
   "cell_type": "markdown",
   "id": "58e6c5b9-bf14-4b51-87e7-3ea2f2a261fb",
   "metadata": {},
   "source": [
    "## Exercise 8 - Create a code cell to multiply and add numbers"
   ]
  },
  {
   "cell_type": "markdown",
   "id": "f3ff75f5-fd1d-409c-9e50-94980b509241",
   "metadata": {},
   "source": [
    "This a simple arithmetic expression to mutiply then add integers"
   ]
  },
  {
   "cell_type": "code",
   "execution_count": 2,
   "id": "810b9f5b-7532-426d-8431-68cc41d6c9d1",
   "metadata": {},
   "outputs": [
    {
     "data": {
      "text/plain": [
       "17"
      ]
     },
     "execution_count": 2,
     "metadata": {},
     "output_type": "execute_result"
    }
   ],
   "source": [
    "(3*4)+5"
   ]
  },
  {
   "cell_type": "markdown",
   "id": "bb2ef2dc-2f22-4d63-b5d9-2ff89fb5c3dd",
   "metadata": {},
   "source": [
    "## Exercise 9 - Create a code cell to convert minutes to hours"
   ]
  },
  {
   "cell_type": "markdown",
   "id": "fa3a7cef-209d-4f10-840c-922c1a6709f7",
   "metadata": {},
   "source": [
    "This will convert 200 minutes to hours by diving by 60"
   ]
  },
  {
   "cell_type": "code",
   "execution_count": 3,
   "id": "da90404c-c8d1-4711-a250-44a4f433abe2",
   "metadata": {},
   "outputs": [
    {
     "name": "stdout",
     "output_type": "stream",
     "text": [
      "3.3333333333333335 hours, \n"
     ]
    }
   ],
   "source": [
    "minutes = 200\n",
    "hours = minutes / 60\n",
    "print(str(hours) + \" hours, \")"
   ]
  },
  {
   "cell_type": "markdown",
   "id": "0add42b3-d420-4195-8698-b39f732f4f22",
   "metadata": {},
   "source": [
    "## Exercise 10 - Insert a markdown cell to list Objectives|"
   ]
  },
  {
   "cell_type": "markdown",
   "id": "dede4012-a2e8-44cf-8e16-0c7979f5c234",
   "metadata": {},
   "source": [
    "Below the introduction cell created in Exercise 3, insert a new markdown cell to list the objectives that this notebook covered (i.e. some of the key takeaways from the course). In this new cell start with an introductory line titled: Objectives: in bold font. Then using an unordered list (bullets) indicate 3 to 5 items covered in this notebook, such as List popular languages for Data Science."
   ]
  },
  {
   "cell_type": "markdown",
   "id": "e148c930-e0d8-417a-bd09-b0c5965fd6fe",
   "metadata": {},
   "source": [
    "## Exercise 11 - Create a markdown cell to indicate the Author's name"
   ]
  },
  {
   "cell_type": "markdown",
   "id": "28d6525e-4632-4ccd-bc7f-7f938b214434",
   "metadata": {},
   "source": [
    "## Author:"
   ]
  },
  {
   "cell_type": "markdown",
   "id": "13de625f-fce5-4f93-9341-761ca886a77c",
   "metadata": {},
   "source": [
    "Deepanshu Pal"
   ]
  }
 ],
 "metadata": {
  "kernelspec": {
   "display_name": "Python 3 (ipykernel)",
   "language": "python",
   "name": "python3"
  },
  "language_info": {
   "codemirror_mode": {
    "name": "ipython",
    "version": 3
   },
   "file_extension": ".py",
   "mimetype": "text/x-python",
   "name": "python",
   "nbconvert_exporter": "python",
   "pygments_lexer": "ipython3",
   "version": "3.12.8"
  }
 },
 "nbformat": 4,
 "nbformat_minor": 5
}
